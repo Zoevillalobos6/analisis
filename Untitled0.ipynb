{
  "nbformat": 4,
  "nbformat_minor": 0,
  "metadata": {
    "colab": {
      "provenance": [],
      "authorship_tag": "ABX9TyO1Z6bOc2wbQbkILF4RHHe2",
      "include_colab_link": true
    },
    "kernelspec": {
      "name": "python3",
      "display_name": "Python 3"
    },
    "language_info": {
      "name": "python"
    }
  },
  "cells": [
    {
      "cell_type": "markdown",
      "metadata": {
        "id": "view-in-github",
        "colab_type": "text"
      },
      "source": [
        "<a href=\"https://colab.research.google.com/github/Zoevillalobos6/analisis/blob/main/Untitled0.ipynb\" target=\"_parent\"><img src=\"https://colab.research.google.com/assets/colab-badge.svg\" alt=\"Open In Colab\"/></a>"
      ]
    },
    {
      "cell_type": "code",
      "execution_count": null,
      "metadata": {
        "colab": {
          "base_uri": "https://localhost:8080/"
        },
        "id": "U2scaJXK8uTP",
        "outputId": "501c8699-faeb-463d-82da-8543a0c4c884"
      },
      "outputs": [
        {
          "output_type": "execute_result",
          "data": {
            "text/plain": [
              "[3, 2, 5]"
            ]
          },
          "metadata": {},
          "execution_count": 17
        }
      ],
      "source": [
        "list = [1,2,3,2,5]\n",
        "list[2:5]"
      ]
    },
    {
      "cell_type": "code",
      "source": [
        "list = [1,2,3,4,5,6,7]\n",
        "list[0:5]"
      ],
      "metadata": {
        "id": "msi8HI4QBoYZ",
        "colab": {
          "base_uri": "https://localhost:8080/"
        },
        "outputId": "ecd2df2d-a89b-45db-df1a-37cb9f03c856"
      },
      "execution_count": 7,
      "outputs": [
        {
          "output_type": "execute_result",
          "data": {
            "text/plain": [
              "[1, 2, 3, 4, 5]"
            ]
          },
          "metadata": {},
          "execution_count": 7
        }
      ]
    },
    {
      "cell_type": "code",
      "source": [
        "mi_diccionario = {\"123456\":\"Nicolas restrepo\",\n",
        "                  \"5678789789\" : \"Juan perez\",\n",
        "                  \"809890234234\": \" pepito perez\"}\n",
        "\n",
        "otro_diccionario = { 1 : [1,2,3,4,5],\n",
        "                    2 : [5,6,7,8,9],\n",
        "                    3 : {1:2,2:3}\n",
        "                    }"
      ],
      "metadata": {
        "id": "3viq2QAcDzM_"
      },
      "execution_count": 13,
      "outputs": []
    },
    {
      "cell_type": "code",
      "source": [
        "otro_diccionario[3][2]"
      ],
      "metadata": {
        "colab": {
          "base_uri": "https://localhost:8080/"
        },
        "id": "fA1XF4cKGqpi",
        "outputId": "41d76cb0-8b53-4944-f024-d72ce6ba080e"
      },
      "execution_count": 14,
      "outputs": [
        {
          "output_type": "execute_result",
          "data": {
            "text/plain": [
              "3"
            ]
          },
          "metadata": {},
          "execution_count": 14
        }
      ]
    },
    {
      "cell_type": "code",
      "source": [
        "diccionario_complejo = {1: [1,2,3,4,5,[5,6,7,8,9,[6,7,8]]],\n",
        "                        2 : [5,6,7,8,9],\n",
        "                        3: {1:2,2:3,6:[9,10,\"extraer este valor\"]}\n",
        "                        }\n",
        "\n",
        "diccionario_complejo[3][6][2]"
      ],
      "metadata": {
        "colab": {
          "base_uri": "https://localhost:8080/",
          "height": 35
        },
        "id": "zK891dQ3IJDq",
        "outputId": "fdf5722e-e8b0-4e7a-bba0-21eb0b48a484"
      },
      "execution_count": 17,
      "outputs": [
        {
          "output_type": "execute_result",
          "data": {
            "text/plain": [
              "'extraer este valor'"
            ],
            "application/vnd.google.colaboratory.intrinsic+json": {
              "type": "string"
            }
          },
          "metadata": {},
          "execution_count": 17
        }
      ]
    },
    {
      "cell_type": "code",
      "source": [
        "diccionario_estudiantes = { \"Santiago\" : {\"edad\": 18, \"semestre\": 6},\n",
        "                           \"Nicolas\" : {\"edad\" :16, \"semestre\": 9}\n",
        "                           }\n",
        "\n",
        "\n",
        "if diccionario_estudiantes[\"Santiago\"][\"edad\"] >= 18:\n",
        "    print(\"mayor de edad\")\n",
        "else:\n",
        "    print(\"menor de edad\")"
      ],
      "metadata": {
        "colab": {
          "base_uri": "https://localhost:8080/"
        },
        "id": "rQt-XCB4JaKz",
        "outputId": "08fffbf1-3fab-45e5-fc6e-4e2cfbc9a046"
      },
      "execution_count": 24,
      "outputs": [
        {
          "output_type": "stream",
          "name": "stdout",
          "text": [
            "mayor de edad\n"
          ]
        }
      ]
    },
    {
      "cell_type": "code",
      "source": [
        "diccionario_alumnos = {\"Sarita\" : {\"nota\": 4.5, \"aprobo\":True},\n",
        "                      \"Viko\": {\"nota\" : 4.0, \"aprobo\": True},\n",
        "                       \"Zoe\" : {\"nota\" : 2.5, \"aprobo\": False},\n",
        "                       \"Juana\" : {\"nota\" : 5.0, \"aprobo\": True},\n",
        "                       \"Santiago\" : {\"nota\" : 2.8, \"aprobo\": False}\n",
        "                       }\n",
        "\n",
        "if diccionario_alumnos[\"Sarita\"][\"nota\"] >= 3.0:\n",
        "    print(\"sarita aprobo\")\n",
        "else:\n",
        "    print(\"sarita reprobo\")"
      ],
      "metadata": {
        "colab": {
          "base_uri": "https://localhost:8080/"
        },
        "id": "6GJCYU8rMLZC",
        "outputId": "062ef0cf-db02-4026-aadd-14b4dabe3275"
      },
      "execution_count": 26,
      "outputs": [
        {
          "output_type": "stream",
          "name": "stdout",
          "text": [
            "sarita aprobo\n"
          ]
        }
      ]
    }
  ]
}